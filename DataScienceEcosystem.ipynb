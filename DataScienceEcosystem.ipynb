{
 "cells": [
  {
   "cell_type": "markdown",
   "id": "a3bdb19c-f13c-48dc-a5f7-c740cd99bbf3",
   "metadata": {},
   "source": [
    "# Data Science Tools and Ecosystem"
   ]
  },
  {
   "cell_type": "markdown",
   "id": "7125b329-7e6d-4951-a4d9-c993335e3602",
   "metadata": {},
   "source": [
    "In this notebook, Data Science Tools and Ecosystem are summarized."
   ]
  },
  {
   "cell_type": "markdown",
   "id": "0064b0ad-d123-4ee3-91a3-03bce11e3fa6",
   "metadata": {},
   "source": [
    "**Objectives:**\n",
    "* List of popular languages in data science\n",
    "* List of commonly used libraries\n",
    "* List of data science tools"
   ]
  },
  {
   "cell_type": "markdown",
   "id": "7c3e5690-37b4-4936-a56f-50905f038546",
   "metadata": {},
   "source": [
    "Some of the popular languages that Data Scientists use are:\n",
    "1. Python\n",
    "2. R\n",
    "3. SQL\n",
    "4. Java\n",
    "5. C++"
   ]
  },
  {
   "cell_type": "markdown",
   "id": "5c7d51f9-79e9-4dea-adce-8103364ea630",
   "metadata": {},
   "source": [
    "Some of the commonly used libraries used by Data Scientists include:\n",
    "1. NumPy\n",
    "2. Matplotlib\n",
    "3. Pandas\n",
    "4. SciPy\n",
    "5. PyTorch"
   ]
  },
  {
   "cell_type": "markdown",
   "id": "63999ced-93a0-4ed8-8244-1e134400b23c",
   "metadata": {},
   "source": [
    "|Data Science Tools|\n",
    "|----|\n",
    "|Apache Spark|\n",
    "|Apache Hadoop|\n",
    "|Apache Airflow|"
   ]
  },
  {
   "cell_type": "markdown",
   "id": "a55321be-a61a-4533-9cc6-41417773a610",
   "metadata": {},
   "source": [
    "### Below are a few examples of evaluating arithmetic expressions in Python"
   ]
  },
  {
   "cell_type": "code",
   "execution_count": 1,
   "id": "b62b67ba-f655-408e-9294-ca6189369948",
   "metadata": {
    "tags": []
   },
   "outputs": [
    {
     "data": {
      "text/plain": [
       "17"
      ]
     },
     "execution_count": 1,
     "metadata": {},
     "output_type": "execute_result"
    }
   ],
   "source": [
    "#This a simple arithmetic expression to mutiply then add integers\n",
    "(3*4)+5"
   ]
  },
  {
   "cell_type": "code",
   "execution_count": 2,
   "id": "a632df3a-b0f2-42b8-a4c6-aa574cf01795",
   "metadata": {
    "tags": []
   },
   "outputs": [
    {
     "data": {
      "text/plain": [
       "3.3333333333333335"
      ]
     },
     "execution_count": 2,
     "metadata": {},
     "output_type": "execute_result"
    }
   ],
   "source": [
    "#This will convert 200 minutes to hours by diving by 60\n",
    "200/60"
   ]
  },
  {
   "cell_type": "markdown",
   "id": "5218ff65-ac4a-43ed-8905-94d94af8a9f5",
   "metadata": {},
   "source": [
    "## Author\n",
    "Vít Minář"
   ]
  }
 ],
 "metadata": {
  "kernelspec": {
   "display_name": "Python",
   "language": "python",
   "name": "conda-env-python-py"
  },
  "language_info": {
   "codemirror_mode": {
    "name": "ipython",
    "version": 3
   },
   "file_extension": ".py",
   "mimetype": "text/x-python",
   "name": "python",
   "nbconvert_exporter": "python",
   "pygments_lexer": "ipython3",
   "version": "3.7.12"
  }
 },
 "nbformat": 4,
 "nbformat_minor": 5
}
